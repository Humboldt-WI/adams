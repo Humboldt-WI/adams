{
 "cells": [
  {
   "cell_type": "markdown",
   "id": "6a541085",
   "metadata": {},
   "source": [
    "[![Open In Colab](https://colab.research.google.com/assets/colab-badge.svg)](https://colab.research.google.com/github/Humboldt-WI/adams/blob/master/exercises/tut4_NLP_pipeline_teacher.ipynb) "
   ]
  },
  {
   "cell_type": "markdown",
   "id": "0ba7e7af",
   "metadata": {},
   "source": [
    "# Manual Training Loop with tensorflow"
   ]
  },
  {
   "cell_type": "markdown",
   "id": "e4357cf5",
   "metadata": {},
   "source": [
    "So far we implemeneted (simplified version) of backpropagation in the 2. tutorial with a single weight, and a set of several weights (not weights matrices). Manually implementing backpropagation gives you full controll over the training process. However, the more complicated the architecture of the network is, the more difficult it would be to manually implement backprop. For this purpose, in the 3. tutorial we used the high-level api of keras, which is very simple and user-friendly: with several lines of code we trained and tuned our neural network. On the negative side, when using the high-level api, you have very little control over what is happening during the training process. Therefore, in this tutorial we will implement a manual training loop using tensorflow, which gives you more felxibility than the high-level api of keras and is not as code-intensive as manually implementing backprop. One of the advantages of building a manual training loop is that , among others, you can examine the flow of gradients during the training process. Keras provides an example implementation of such training loop: https://keras.io/guides/writing_a_custom_training_loop_in_tensorflow/. Following the example online, and using the boston housing dataset from 3. tutorial or a dataset that you have simulated, implement manually the training loop. For simplicity reasons, you could use data consisting of single batch during the training process.  "
   ]
  },
  {
   "cell_type": "code",
   "execution_count": 55,
   "id": "ee5be27c",
   "metadata": {},
   "outputs": [],
   "source": [
    "import numpy as np\n",
    "import tensorflow\n",
    "from tensorflow.keras.datasets import boston_housing\n",
    "import matplotlib.pyplot as plt\n",
    "# this will split the data 80-20% by default\n",
    "(x_train, y_train), (x_test, y_test) = boston_housing.load_data()"
   ]
  },
  {
   "cell_type": "code",
   "execution_count": 56,
   "id": "6ed54023",
   "metadata": {},
   "outputs": [],
   "source": [
    "def tf_rmse(predictions, true_values):\n",
    "    return tensorflow.math.sqrt(tensorflow.math.reduce_mean(tensorflow.math.square(tensorflow.math.subtract(predictions,true_values)),axis=0))"
   ]
  },
  {
   "cell_type": "code",
   "execution_count": 57,
   "id": "d6727c43",
   "metadata": {},
   "outputs": [],
   "source": [
    "x_train_data=tensorflow.convert_to_tensor(x_train,dtype=tensorflow.float32)\n",
    "y_train_data=tensorflow.convert_to_tensor(y_train,dtype=tensorflow.float32)\n",
    "y_train_data=tensorflow.reshape(y_train_data,shape=(y_train_data.shape[0],1))\n",
    "\n",
    "x_test_data=tensorflow.convert_to_tensor(x_test,dtype=tensorflow.float32)\n",
    "y_test_data=tensorflow.convert_to_tensor(y_test,dtype=tensorflow.float32)\n",
    "y_test_data=tensorflow.reshape(y_test_data,shape=(y_test_data.shape[0],1))\n",
    "\n",
    "\n",
    "optimizer=tensorflow.keras.optimizers.Adam()\n",
    "kernel_initializer=tensorflow.keras.initializers.HeNormal()\n",
    "activation_function='relu'\n",
    "units=50\n",
    "nr_layers=10#will most probably overfit, but the point is to show how to build the manual loop, not build \n",
    "#the model for the task for now.\n",
    "model=tensorflow.keras.Sequential([tensorflow.keras.layers.Dense(activation=activation_function,units=units,kernel_initializer=kernel_initializer) for nr_layer in range(0,nr_layers)])\n",
    "model.add(tensorflow.keras.layers.Dense(units=1,activation='linear'))\n",
    "\n",
    "nr_epochs=20\n",
    "train_loss_epochs=[]\n",
    "test_loss_epochs=[]\n",
    "\n",
    "for epoch in range(0,nr_epochs):\n",
    "    \n",
    "    #predictions on train set:\n",
    "    with tensorflow.GradientTape() as tape:\n",
    "        predictions_train=model(x_train_data,training=True)\n",
    "        train_loss=tf_rmse(predictions_train,y_train_data)\n",
    "        train_loss_epochs.append(train_loss)\n",
    "        \n",
    "    gradients=tape.gradient(train_loss,model.trainable_variables)#backward pass\n",
    "    optimizer.apply_gradients(zip(gradients, model.trainable_variables))\n",
    "    \n",
    "    #print('After gradient updates on training data: ',model.trainable_variables[0][:10][:5])\n",
    "    \n",
    "    #predictions on test set:\n",
    "    predictions_test=model(x_test_data,training=False)\n",
    "    test_loss=tf_rmse(predictions_test,y_test_data)\n",
    "    test_loss_epochs.append(test_loss)\n",
    "    \n",
    "    #print('After computation on testing data: ',model.trainable_variables[0][:10][:5])\n",
    "    \n"
   ]
  },
  {
   "cell_type": "code",
   "execution_count": 58,
   "id": "191b751d",
   "metadata": {},
   "outputs": [
    {
     "name": "stdout",
     "output_type": "stream",
     "text": [
      "Model: \"sequential_4\"\n",
      "_________________________________________________________________\n",
      " Layer (type)                Output Shape              Param #   \n",
      "=================================================================\n",
      " dense_44 (Dense)            (None, 50)                700       \n",
      "                                                                 \n",
      " dense_45 (Dense)            (None, 50)                2550      \n",
      "                                                                 \n",
      " dense_46 (Dense)            (None, 50)                2550      \n",
      "                                                                 \n",
      " dense_47 (Dense)            (None, 50)                2550      \n",
      "                                                                 \n",
      " dense_48 (Dense)            (None, 50)                2550      \n",
      "                                                                 \n",
      " dense_49 (Dense)            (None, 50)                2550      \n",
      "                                                                 \n",
      " dense_50 (Dense)            (None, 50)                2550      \n",
      "                                                                 \n",
      " dense_51 (Dense)            (None, 50)                2550      \n",
      "                                                                 \n",
      " dense_52 (Dense)            (None, 50)                2550      \n",
      "                                                                 \n",
      " dense_53 (Dense)            (None, 50)                2550      \n",
      "                                                                 \n",
      " dense_54 (Dense)            (None, 1)                 51        \n",
      "                                                                 \n",
      "=================================================================\n",
      "Total params: 23,701\n",
      "Trainable params: 23,701\n",
      "Non-trainable params: 0\n",
      "_________________________________________________________________\n",
      "None\n"
     ]
    }
   ],
   "source": [
    "print(model.summary())"
   ]
  },
  {
   "cell_type": "code",
   "execution_count": 59,
   "id": "7e4e192d",
   "metadata": {},
   "outputs": [
    {
     "data": {
      "image/png": "[encoded data removed]",
      "text/plain": [
       "<Figure size 1000x500 with 1 Axes>"
      ]
     },
     "metadata": {},
     "output_type": "display_data"
    }
   ],
   "source": [
    "plt.figure(figsize=(10,5))\n",
    "plt.plot(train_loss_epochs)\n",
    "plt.plot(test_loss_epochs)\n",
    "plt.legend(['Train RMSE','Test RMSE'])\n",
    "plt.xlabel('Epoch')\n",
    "plt.ylabel('RMSE')\n",
    "plt.title('Train vs. Test Performance')\n",
    "plt.show()\n",
    "plt.close()"
   ]
  },
  {
   "cell_type": "markdown",
   "id": "bb90b5a8",
   "metadata": {},
   "source": [
    "# NLP pipeline\n",
    "You are already familiar with building predictive models on tabular data. In tabular data, you have a feature matrix `X` and a target vector `Y`. Given these data structures, you can apply learning algorithms to learn the relationship between `X` and `Y`. In this exercise, you are provided with a data set of movie reviews. Your goal is to build a classifier predicting whether a review has a positive or negative tone (this task is called sentiment classification). Hence, you have a prediction problem with a binary target, `Y`, which is nothing new for you. However, in this exercise, what is new for you is that you need to deal with text data instead of tabular data. With text data, you need to process the data to obtain the required feature matrix `X`. This processing of data is what we call the \"NLP pipeline\". \n",
    "\n",
    "In this exercise, you will need to set up an NLP pipeline. You are provided with a data set of movie reviews, where each sample contains a review (just a string cell). To obtain a feature matrix, each sample string cell needs to be transformed into a feature vector $x$. This process is called vectorization. There are multiple possible vectorization procedures. Today, you will implement a bag-of-words model for feature extraction. This feature extraction process involves two steps:\n",
    "1. Vocabulary building\n",
    " * Tokenization: Transforming a review, which is a single string at the beginning, into a vector of strings (tokens).\n",
    " * Cleaning and compressing techniques: Reducing the number of distinct tokens. E.g., correcting the misspelling of words or lower casing the letters prevents the same word from appearing in multiple spelling ways. Additionally, similar words (e.g. different forms of a verb) can be united into a single token. \n",
    " * Building a bag-of-words: a vector whose length corresponds exactly to the number of different tokens. Each token is assigned the position within the vector. \n",
    " \n",
    "2. Feature creation based on term frequency: Each review gets transformed into a feature vector $x$. The length of the feature vector corresponds to the length of the bag-of-words vector, created in step 1. An element $x_{j}$ of the feature vector is calculated by a frequency measure, measuring how frequently token $j$ from the bag-of-words vector occurs in the review. \n",
    "\n",
    "The first code cells provide the required packages and load the review data set, which you will use for the exercise. You will build the most simple NLP pipeline, which means that you go through steps 1 and 2 of the NLP pipeline, but you skip the \"cleaning and compressing\" part of step 1. This simple NLP pipeline provides you with a feature matrix `X` (possibly not ideal). You will use this feature matrix to build and evaluate a predictive model.\n",
    "\n",
    "In the tutorial, we will extend your NLP pipeline by including the cleaning and compressing techniques (according techniques are also covered in detail in the demo notebook `nlp_foundations.ipynb`). That will lead to another feature matrix, `X`. Then, we will build another predictive model on this new feature matrix `X` and compare the performance to the model built by the simplified NLP pipeline."
   ]
  },
  {
   "cell_type": "code",
   "execution_count": 3,
   "id": "dec2f511",
   "metadata": {},
   "outputs": [],
   "source": [
    "# required packages\n",
    "import pandas as pd\n",
    "import nltk\n",
    "# nltk.download('punkt') If needed\n",
    "from nltk.tokenize import word_tokenize\n",
    "from nltk.corpus import stopwords\n",
    "from nltk.stem import WordNetLemmatizer\n",
    "from nltk.corpus import wordnet\n",
    "from bs4 import BeautifulSoup ## handles html\n",
    "import re ## provides regular expressions functionality\n",
    "from sklearn.feature_extraction.text import TfidfVectorizer\n",
    "from sklearn.linear_model import RidgeClassifier, LogisticRegression\n",
    "from sklearn.model_selection import train_test_split\n",
    "from sklearn import metrics\n",
    "import pickle"
   ]
  },
  {
   "cell_type": "code",
   "execution_count": 4,
   "id": "6885cd28",
   "metadata": {},
   "outputs": [
    {
     "name": "stdout",
     "output_type": "stream",
     "text": [
      "<class 'pandas.core.frame.DataFrame'>\n",
      "RangeIndex: 50000 entries, 0 to 49999\n",
      "Data columns (total 2 columns):\n",
      " #   Column     Non-Null Count  Dtype \n",
      "---  ------     --------------  ----- \n",
      " 0   review     50000 non-null  object\n",
      " 1   sentiment  50000 non-null  object\n",
      "dtypes: object(2)\n",
      "memory usage: 781.4+ KB\n"
     ]
    }
   ],
   "source": [
    "# Remeber to adjust the path so that it matches your environment\n",
    "df = pd.read_csv(\"IMDB-50K-Movie-Review.zip\", sep=\",\", encoding=\"ISO-8859-1\")\n",
    "df.info()"
   ]
  },
  {
   "cell_type": "code",
   "execution_count": 5,
   "id": "5424923a",
   "metadata": {},
   "outputs": [
    {
     "name": "stdout",
     "output_type": "stream",
     "text": [
      "                                                  review sentiment\n",
      "0      One of the other reviewers has mentioned that ...  positive\n",
      "1      A wonderful little production. <br /><br />The...  positive\n",
      "2      I thought this was a wonderful way to spend ti...  positive\n",
      "3      Basically there's a family where a little boy ...  negative\n",
      "4      Petter Mattei's \"Love in the Time of Money\" is...  positive\n",
      "...                                                  ...       ...\n",
      "49995  I thought this movie did a down right good job...  positive\n",
      "49996  Bad plot, bad dialogue, bad acting, idiotic di...  negative\n",
      "49997  I am a Catholic taught in parochial elementary...  negative\n",
      "49998  I'm going to have to disagree with the previou...  negative\n",
      "49999  No one expects the Star Trek movies to be high...  negative\n",
      "\n",
      "[50000 rows x 2 columns]\n"
     ]
    },
    {
     "data": {
      "text/html": [
       "<div>\n",
       "<style scoped>\n",
       "    .dataframe tbody tr th:only-of-type {\n",
       "        vertical-align: middle;\n",
       "    }\n",
       "\n",
       "    .dataframe tbody tr th {\n",
       "        vertical-align: top;\n",
       "    }\n",
       "\n",
       "    .dataframe thead th {\n",
       "        text-align: right;\n",
       "    }\n",
       "</style>\n",
       "<table border=\"1\" class=\"dataframe\">\n",
       "  <thead>\n",
       "    <tr style=\"text-align: right;\">\n",
       "      <th></th>\n",
       "      <th>review</th>\n",
       "      <th>sentiment</th>\n",
       "    </tr>\n",
       "  </thead>\n",
       "  <tbody>\n",
       "    <tr>\n",
       "      <th>0</th>\n",
       "      <td>One of the other reviewers has mentioned that ...</td>\n",
       "      <td>positive</td>\n",
       "    </tr>\n",
       "    <tr>\n",
       "      <th>1</th>\n",
       "      <td>A wonderful little production. &lt;br /&gt;&lt;br /&gt;The...</td>\n",
       "      <td>positive</td>\n",
       "    </tr>\n",
       "    <tr>\n",
       "      <th>2</th>\n",
       "      <td>I thought this was a wonderful way to spend ti...</td>\n",
       "      <td>positive</td>\n",
       "    </tr>\n",
       "    <tr>\n",
       "      <th>3</th>\n",
       "      <td>Basically there's a family where a little boy ...</td>\n",
       "      <td>negative</td>\n",
       "    </tr>\n",
       "    <tr>\n",
       "      <th>4</th>\n",
       "      <td>Petter Mattei's \"Love in the Time of Money\" is...</td>\n",
       "      <td>positive</td>\n",
       "    </tr>\n",
       "  </tbody>\n",
       "</table>\n",
       "</div>"
      ],
      "text/plain": [
       "                                              review sentiment\n",
       "0  One of the other reviewers has mentioned that ...  positive\n",
       "1  A wonderful little production. <br /><br />The...  positive\n",
       "2  I thought this was a wonderful way to spend ti...  positive\n",
       "3  Basically there's a family where a little boy ...  negative\n",
       "4  Petter Mattei's \"Love in the Time of Money\" is...  positive"
      ]
     },
     "execution_count": 5,
     "metadata": {},
     "output_type": "execute_result"
    }
   ],
   "source": [
    "## get to know the data\n",
    "print(df)\n",
    "df.head()"
   ]
  },
  {
   "cell_type": "code",
   "execution_count": 6,
   "id": "2590c955",
   "metadata": {},
   "outputs": [
    {
     "data": {
      "text/plain": [
       "positive    5028\n",
       "negative    4973\n",
       "Name: sentiment, dtype: int64"
      ]
     },
     "execution_count": 6,
     "metadata": {},
     "output_type": "execute_result"
    }
   ],
   "source": [
    "# Only use the first 10000 observations to reduce run time.\n",
    "df = df.loc[0:10000,:]\n",
    "\n",
    "df.reset_index(inplace=True, drop=True)  # dropping the index prohibits a reidentification of the cases in the original data frame\n",
    "df.sentiment.value_counts()"
   ]
  },
  {
   "cell_type": "code",
   "execution_count": 8,
   "id": "a4fe5cd0",
   "metadata": {},
   "outputs": [
    {
     "data": {
      "text/html": [
       "<div>\n",
       "<style scoped>\n",
       "    .dataframe tbody tr th:only-of-type {\n",
       "        vertical-align: middle;\n",
       "    }\n",
       "\n",
       "    .dataframe tbody tr th {\n",
       "        vertical-align: top;\n",
       "    }\n",
       "\n",
       "    .dataframe thead th {\n",
       "        text-align: right;\n",
       "    }\n",
       "</style>\n",
       "<table border=\"1\" class=\"dataframe\">\n",
       "  <thead>\n",
       "    <tr style=\"text-align: right;\">\n",
       "      <th></th>\n",
       "      <th>review</th>\n",
       "      <th>sentiment</th>\n",
       "    </tr>\n",
       "  </thead>\n",
       "  <tbody>\n",
       "    <tr>\n",
       "      <th>0</th>\n",
       "      <td>One of the other reviewers has mentioned that ...</td>\n",
       "      <td>1</td>\n",
       "    </tr>\n",
       "    <tr>\n",
       "      <th>1</th>\n",
       "      <td>A wonderful little production. &lt;br /&gt;&lt;br /&gt;The...</td>\n",
       "      <td>1</td>\n",
       "    </tr>\n",
       "    <tr>\n",
       "      <th>2</th>\n",
       "      <td>I thought this was a wonderful way to spend ti...</td>\n",
       "      <td>1</td>\n",
       "    </tr>\n",
       "    <tr>\n",
       "      <th>3</th>\n",
       "      <td>Basically there's a family where a little boy ...</td>\n",
       "      <td>0</td>\n",
       "    </tr>\n",
       "    <tr>\n",
       "      <th>4</th>\n",
       "      <td>Petter Mattei's \"Love in the Time of Money\" is...</td>\n",
       "      <td>1</td>\n",
       "    </tr>\n",
       "  </tbody>\n",
       "</table>\n",
       "</div>"
      ],
      "text/plain": [
       "                                              review  sentiment\n",
       "0  One of the other reviewers has mentioned that ...          1\n",
       "1  A wonderful little production. <br /><br />The...          1\n",
       "2  I thought this was a wonderful way to spend ti...          1\n",
       "3  Basically there's a family where a little boy ...          0\n",
       "4  Petter Mattei's \"Love in the Time of Money\" is...          1"
      ]
     },
     "execution_count": 8,
     "metadata": {},
     "output_type": "execute_result"
    }
   ],
   "source": [
    "# Map label\n",
    "df['sentiment'] = df['sentiment'].map({'positive' : 1, 'negative': 0})\n",
    "df.head()"
   ]
  },
  {
   "cell_type": "markdown",
   "id": "bf198df3",
   "metadata": {},
   "source": [
    "## Simple NLP pipeline:\n",
    "You need to transform the text data, contained in the column `df[\"review\"]`, such that it is suitable as a feature matrix `X`, which you need for predictive model building. This means in detail: \n",
    "\n",
    "a) Create a list \"reviews_tokenized\", where each element corresponds to a string vector, representing a review. Use NLTK's `word_tokenize()` function. In case you get error messages from nltk, follow the instructions from the error to resolve it."
   ]
  },
  {
   "cell_type": "code",
   "execution_count": 9,
   "id": "2167127a",
   "metadata": {},
   "outputs": [
    {
     "name": "stderr",
     "output_type": "stream",
     "text": [
      "[nltk_data] Downloading package punkt to C:\\Users\\Georg\n",
      "[nltk_data]     Velev\\AppData\\Roaming\\nltk_data...\n",
      "[nltk_data]   Package punkt is already up-to-date!\n"
     ]
    },
    {
     "data": {
      "text/plain": [
       "['Hello', 'World']"
      ]
     },
     "execution_count": 9,
     "metadata": {},
     "output_type": "execute_result"
    }
   ],
   "source": [
    "nltk.download('punkt')\n",
    "nltk.word_tokenize('Hello World')"
   ]
  },
  {
   "cell_type": "code",
   "execution_count": 10,
   "id": "1c499afd",
   "metadata": {},
   "outputs": [
    {
     "name": "stdout",
     "output_type": "stream",
     "text": [
      "0        [One, of, the, other, reviewers, has, mentione...\n",
      "1        [A, wonderful, little, production, ., <, br, /...\n",
      "2        [I, thought, this, was, a, wonderful, way, to,...\n",
      "3        [Basically, there, 's, a, family, where, a, li...\n",
      "4        [Petter, Mattei, 's, ``, Love, in, the, Time, ...\n",
      "                               ...                        \n",
      "9996     [Give, me, a, break, ., How, can, anyone, say,...\n",
      "9997     [This, movie, is, a, bad, movie, ., But, after...\n",
      "9998     [This, is, a, movie, that, was, probably, made...\n",
      "9999     [Smashing, film, about, film-making, ., Shows,...\n",
      "10000    [``, While, sporadically, engrossing, (, inclu...\n",
      "Length: 10001, dtype: object\n"
     ]
    }
   ],
   "source": [
    "reviews_tokenized = df.apply(lambda row: nltk.word_tokenize(row['review']), axis=1)\n",
    "print(reviews_tokenized)"
   ]
  },
  {
   "cell_type": "markdown",
   "id": "fcfd67a6",
   "metadata": {},
   "source": [
    "b) Split the review data (`reviews_tokenized`) as well as the target `df['sentiment']` in training and test sets. Use 80% of the data for training. Use sklearn's `train_test_split()` function."
   ]
  },
  {
   "cell_type": "code",
   "execution_count": 11,
   "id": "968b395c",
   "metadata": {},
   "outputs": [],
   "source": [
    "X_train, X_test, y_train, y_test = train_test_split(reviews_tokenized, df['sentiment'], test_size = 0.2, random_state = 5)"
   ]
  },
  {
   "cell_type": "markdown",
   "id": "11968263",
   "metadata": {},
   "source": [
    "c) Now, we need to set up a vocabulary for all tokens and apply this vocabulary to obtain feature vectors $x$. We do this using sklearn's `TfidfVectorizer`. Feel free to experiment with other feature engineering methods from the lecture, f.e., term frequency matrix (in sklearn `CountVectorizer`). You need to apply the vectorizer to the data."
   ]
  },
  {
   "cell_type": "code",
   "execution_count": 12,
   "id": "04a33159",
   "metadata": {},
   "outputs": [],
   "source": [
    "def dummy_fun(doc):\n",
    "    return doc  \n",
    "\n",
    "vectorizer = TfidfVectorizer(\n",
    "    analyzer = 'word',\n",
    "    tokenizer = dummy_fun,\n",
    "    preprocessor = dummy_fun,\n",
    "    token_pattern = None)\n",
    "\n",
    "## Set up the dictionary and calculate the document frequency of each token on the training set.\n",
    "## Then generate the features on the training set, using the document frequency table.\n",
    "reviews_tr = vectorizer.fit_transform(X_train)\n",
    "\n",
    "## Apply the document frequency table on the test set, to generate feature vectors.\n",
    "reviews_ts = vectorizer.transform(X_test)"
   ]
  },
  {
   "cell_type": "markdown",
   "id": "14705493",
   "metadata": {},
   "source": [
    "The `TfidfVectorizer` did multiple steps at once. To better understand how it works, you should examine the results step by step.\n",
    "\n",
    "d) Examine the vocabulary it created: How many tokens does it include? Which tokens are included? Would it maybe be better to leave some of these tokens out to reduce the dimension of the vocabulary and the derived feature matrix?"
   ]
  },
  {
   "cell_type": "code",
   "execution_count": 13,
   "id": "c8daa916",
   "metadata": {},
   "outputs": [
    {
     "name": "stdout",
     "output_type": "stream",
     "text": [
      "The vocabulary contains 73435 tokens.\n",
      "Now let us look at some examples of these tokens.\n",
      "['\\x10own' '!' '#' '$' '%' '&' \"'\" \"''\" \"'.\" \"'007\" \"'00s\" \"'01\" \"'02\"\n",
      " \"'03\" \"'04\" \"'05\" \"'06\" \"'07\" \"'10\" \"'12\" \"'15\" \"'1st\" \"'20th\" \"'28\"\n",
      " \"'30\" \"'30s\" \"'30s-'40s\" \"'30s-Ray\" \"'30s/'40s\" \"'40\" \"'40s\" \"'42\" \"'43\"\n",
      " \"'45\" \"'50\" \"'50s\" \"'50s/early\" \"'51\" \"'54-'55\" \"'59\" \"'60\" \"'60s\"\n",
      " \"'60s-early\" \"'61\" \"'63\" \"'66\" \"'68\" \"'69\" \"'70\" \"'70's-style\"]\n"
     ]
    }
   ],
   "source": [
    "# vocab = vectorizer.get_feature_names()\n",
    "vocab = vectorizer.get_feature_names_out()\n",
    "print('The vocabulary contains ' + str(len(vocab)) + ' tokens.')\n",
    "print('Now let us look at some examples of these tokens.')\n",
    "print(vocab[0:50])"
   ]
  },
  {
   "cell_type": "markdown",
   "id": "a26d6fb5",
   "metadata": {},
   "source": [
    "e) Let's recap how feature vectors are generated from this vocabulary. The basic idea of bag-of-words based feature extraction is to generate for each token in the vocabulary a column in the feature matrix `X`. For an observation $i$ (corresponding to a single review), the entry $X_{i,j}$ of the feature matrix would be 1 if the review contains the token of column $j$ and 0 otherwise. There are some variations to this approach, f.e., the Tfidf approach (*term frequency-inverse document frequency*), which we apply in this exercise. Have a look at the matrix, which the `TfidfVectorizer` created. "
   ]
  },
  {
   "cell_type": "code",
   "execution_count": 23,
   "id": "7d6024ba",
   "metadata": {},
   "outputs": [
    {
     "data": {
      "text/plain": [
       "(1, 73435)"
      ]
     },
     "execution_count": 23,
     "metadata": {},
     "output_type": "execute_result"
    }
   ],
   "source": [
    "reviews_tr[0,:].todense().shape"
   ]
  },
  {
   "cell_type": "code",
   "execution_count": 14,
   "id": "9355ef5a",
   "metadata": {},
   "outputs": [
    {
     "data": {
      "text/plain": [
       "380"
      ]
     },
     "execution_count": 14,
     "metadata": {},
     "output_type": "execute_result"
    }
   ],
   "source": [
    "len(X_train[0])"
   ]
  },
  {
   "cell_type": "code",
   "execution_count": 32,
   "id": "b4d9972e",
   "metadata": {},
   "outputs": [
    {
     "name": "stdout",
     "output_type": "stream",
     "text": [
      "[[0.         0.         0.         0.         0.         0.\n",
      "  0.         0.07425346 0.         0.         0.         0.\n",
      "  0.         0.         0.         0.         0.         0.\n",
      "  0.         0.         0.         0.         0.         0.\n",
      "  0.         0.         0.         0.         0.         0.\n",
      "  0.         0.         0.         0.         0.         0.\n",
      "  0.         0.         0.         0.         0.         0.\n",
      "  0.         0.         0.         0.         0.         0.\n",
      "  0.         0.         0.         0.         0.         0.\n",
      "  0.         0.         0.         0.         0.         0.\n",
      "  0.         0.         0.         0.         0.         0.\n",
      "  0.         0.         0.         0.         0.         0.\n",
      "  0.         0.         0.         0.         0.         0.\n",
      "  0.         0.         0.         0.         0.         0.\n",
      "  0.         0.         0.         0.         0.         0.\n",
      "  0.         0.         0.         0.         0.         0.\n",
      "  0.         0.         0.         0.        ]]\n",
      "['One', 'of', 'the', 'other', 'reviewers', 'has', 'mentioned', 'that', 'after', 'watching', 'just', '1', 'Oz', 'episode', 'you', \"'ll\", 'be', 'hooked', '.', 'They', 'are', 'right', ',', 'as', 'this', 'is', 'exactly', 'what', 'happened', 'with', 'me.', '<', 'br', '/', '>', '<', 'br', '/', '>', 'The', 'first', 'thing', 'that', 'struck', 'me', 'about', 'Oz', 'was', 'its', 'brutality', 'and', 'unflinching', 'scenes', 'of', 'violence', ',', 'which', 'set', 'in', 'right', 'from', 'the', 'word', 'GO', '.', 'Trust', 'me', ',', 'this', 'is', 'not', 'a', 'show', 'for', 'the', 'faint', 'hearted', 'or', 'timid', '.', 'This', 'show', 'pulls', 'no', 'punches', 'with', 'regards', 'to', 'drugs', ',', 'sex', 'or', 'violence', '.', 'Its', 'is', 'hardcore', ',', 'in', 'the', 'classic', 'use', 'of', 'the', 'word.', '<', 'br', '/', '>', '<', 'br', '/', '>', 'It', 'is', 'called', 'OZ', 'as', 'that', 'is', 'the', 'nickname', 'given', 'to', 'the', 'Oswald', 'Maximum', 'Security', 'State', 'Penitentary', '.', 'It', 'focuses', 'mainly', 'on', 'Emerald', 'City', ',', 'an', 'experimental', 'section', 'of', 'the', 'prison', 'where', 'all', 'the', 'cells', 'have', 'glass', 'fronts', 'and', 'face', 'inwards', ',', 'so', 'privacy', 'is', 'not', 'high', 'on', 'the', 'agenda', '.', 'Em', 'City', 'is', 'home', 'to', 'many', '..', 'Aryans', ',', 'Muslims', ',', 'gangstas', ',', 'Latinos', ',', 'Christians', ',', 'Italians', ',', 'Irish', 'and', 'more', '....', 'so', 'scuffles', ',', 'death', 'stares', ',', 'dodgy', 'dealings', 'and', 'shady', 'agreements', 'are', 'never', 'far', 'away.', '<', 'br', '/', '>', '<', 'br', '/', '>', 'I', 'would', 'say', 'the', 'main', 'appeal', 'of', 'the', 'show', 'is', 'due', 'to', 'the', 'fact', 'that', 'it', 'goes', 'where', 'other', 'shows', 'would', \"n't\", 'dare', '.', 'Forget', 'pretty', 'pictures', 'painted', 'for', 'mainstream', 'audiences', ',', 'forget', 'charm', ',', 'forget', 'romance', '...', 'OZ', 'does', \"n't\", 'mess', 'around', '.', 'The', 'first', 'episode', 'I', 'ever', 'saw', 'struck', 'me', 'as', 'so', 'nasty', 'it', 'was', 'surreal', ',', 'I', 'could', \"n't\", 'say', 'I', 'was', 'ready', 'for', 'it', ',', 'but', 'as', 'I', 'watched', 'more', ',', 'I', 'developed', 'a', 'taste', 'for', 'Oz', ',', 'and', 'got', 'accustomed', 'to', 'the', 'high', 'levels', 'of', 'graphic', 'violence', '.', 'Not', 'just', 'violence', ',', 'but', 'injustice', '(', 'crooked', 'guards', 'who', \"'ll\", 'be', 'sold', 'out', 'for', 'a', 'nickel', ',', 'inmates', 'who', \"'ll\", 'kill', 'on', 'order', 'and', 'get', 'away', 'with', 'it', ',', 'well', 'mannered', ',', 'middle', 'class', 'inmates', 'being', 'turned', 'into', 'prison', 'bitches', 'due', 'to', 'their', 'lack', 'of', 'street', 'skills', 'or', 'prison', 'experience', ')', 'Watching', 'Oz', ',', 'you', 'may', 'become', 'comfortable', 'with', 'what', 'is', 'uncomfortable', 'viewing', '....', 'thats', 'if', 'you', 'can', 'get', 'in', 'touch', 'with', 'your', 'darker', 'side', '.']\n"
     ]
    }
   ],
   "source": [
    "## print the first 100 feature entries for the first review\n",
    "print(reviews_tr[0,0:100].todense())\n",
    "print(X_train[0])"
   ]
  },
  {
   "cell_type": "markdown",
   "id": "cf162233",
   "metadata": {},
   "source": [
    "f) Fit a logistic regression classifier and evaluate the accuracy of the predictions on the training and test sets."
   ]
  },
  {
   "cell_type": "code",
   "execution_count": 24,
   "id": "50877e10",
   "metadata": {},
   "outputs": [
    {
     "name": "stdout",
     "output_type": "stream",
     "text": [
      "0.936\n",
      "0.8470764617691154\n"
     ]
    }
   ],
   "source": [
    "classifier = LogisticRegression()\n",
    "classifier.fit(reviews_tr, y_train)\n",
    "pred_test = classifier.predict(reviews_ts)\n",
    "pred_train = classifier.predict(reviews_tr)\n",
    "print(metrics.accuracy_score(y_train, pred_train))\n",
    "print(metrics.accuracy_score(y_test, pred_test))"
   ]
  },
  {
   "cell_type": "markdown",
   "id": "2355b726",
   "metadata": {},
   "source": [
    "## Extended NLP Excercise\n",
    "In the previous exercise, we took little care about the cleaning and compressing part of the NLP pipeline. As a consequence, we obtained a dictionary with a lot of tokens which are most likely not so informative. The high number of tokens in the dictionary resulted in a very high dimension of the feature matrix `X`. In this exercise, we will add the cleaning and compressing part to the NLP pipeline. We hope to create a feature matrix of lower dimension, which yields more accurate predictions."
   ]
  },
  {
   "cell_type": "code",
   "execution_count": 25,
   "id": "60528c22",
   "metadata": {},
   "outputs": [
    {
     "name": "stderr",
     "output_type": "stream",
     "text": [
      "[nltk_data] Downloading package stopwords to C:\\Users\\Georg\n",
      "[nltk_data]     Velev\\AppData\\Roaming\\nltk_data...\n",
      "[nltk_data]   Package stopwords is already up-to-date!\n",
      "[nltk_data] Downloading package averaged_perceptron_tagger to\n",
      "[nltk_data]     C:\\Users\\Georg Velev\\AppData\\Roaming\\nltk_data...\n",
      "[nltk_data]   Package averaged_perceptron_tagger is already up-to-\n",
      "[nltk_data]       date!\n",
      "[nltk_data] Downloading package omw-1.4 to C:\\Users\\Georg\n",
      "[nltk_data]     Velev\\AppData\\Roaming\\nltk_data...\n",
      "[nltk_data]   Package omw-1.4 is already up-to-date!\n",
      "[nltk_data] Downloading package wordnet to C:\\Users\\Georg\n",
      "[nltk_data]     Velev\\AppData\\Roaming\\nltk_data...\n",
      "[nltk_data]   Package wordnet is already up-to-date!\n"
     ]
    }
   ],
   "source": [
    "## download pre-learned NLP tools\n",
    "nltk.download('stopwords') ## to identify stopwords \n",
    "nltk.download('averaged_perceptron_tagger') ## for part-of-speech tagging (used for lemmatization)\n",
    "nltk.download('omw-1.4')\n",
    "nltk.download('wordnet')\n",
    "\n",
    "# Lemmatize with POS Tag (Parts of Speech tagging)\n",
    "def get_wordnet_pos(word):\n",
    "    \"\"\"Map POS tag to first character for lemmatization\"\"\"\n",
    "    tag = nltk.pos_tag([word])[0][1][0].upper()\n",
    "    tag_dict = {\"J\": wordnet.ADJ,\n",
    "                \"N\": wordnet.NOUN,\n",
    "                \"V\": wordnet.VERB,\n",
    "                \"R\": wordnet.ADV}\n",
    "\n",
    "    return tag_dict.get(tag, wordnet.NOUN)\n",
    "\n",
    "## function to clean text data\n",
    "def clean_reviews(df):\n",
    "    \"\"\" Standard NLP pre-processing chain including removal of html tags, non-alphanumeric characters, and stopwords.\n",
    "        Words are subject to lemmatization using their POS tags, which are determind using WordNet. \n",
    "    \"\"\"\n",
    "    reviews = []\n",
    "\n",
    "    lemmatizer = WordNetLemmatizer()\n",
    "    \n",
    "    print('*' * 40)\n",
    "    print('Cleaning {} movie reviews.'.format(df.shape[0]))\n",
    "    counter = 0\n",
    "    for review in df:\n",
    "        \n",
    "        # remove html content\n",
    "        review_text = BeautifulSoup(review).get_text()\n",
    "        \n",
    "        # remove non-alphabetic characters\n",
    "        review_text = re.sub(\"[^a-zA-Z]\",\" \", review_text)\n",
    "    \n",
    "        # tokenize the sentences with all capital letters transformed to lower case\n",
    "        words = word_tokenize(review_text.lower())\n",
    "  \n",
    "        # filter stopwords\n",
    "        words = [w for w in words if w not in stopwords.words(\"english\")]\n",
    "        \n",
    "        # lemmatize each word to its lemma\n",
    "        lemma_words =[lemmatizer.lemmatize(i, get_wordnet_pos(i)) for i in words]\n",
    "    \n",
    "        reviews.append(lemma_words)\n",
    "              \n",
    "        if (counter > 0 and counter % 500 == 0):\n",
    "            print('Processed {} reviews'.format(counter))\n",
    "            \n",
    "        counter += 1\n",
    "        \n",
    "    print('DONE')\n",
    "    print('*' * 40)\n",
    "\n",
    "    return(reviews) "
   ]
  },
  {
   "cell_type": "code",
   "execution_count": 42,
   "id": "78648e74",
   "metadata": {},
   "outputs": [
    {
     "name": "stdout",
     "output_type": "stream",
     "text": [
      "****************************************\n",
      "Cleaning 10001 movie reviews.\n",
      "Processed 500 reviews\n"
     ]
    },
    {
     "name": "stderr",
     "output_type": "stream",
     "text": [
      "C:\\Users\\Georg Velev\\anaconda3\\lib\\site-packages\\bs4\\__init__.py:435: MarkupResemblesLocatorWarning: The input looks more like a filename than markup. You may want to open this file and pass the filehandle into Beautiful Soup.\n",
      "  warnings.warn(\n"
     ]
    },
    {
     "name": "stdout",
     "output_type": "stream",
     "text": [
      "Processed 1000 reviews\n",
      "Processed 1500 reviews\n",
      "Processed 2000 reviews\n",
      "Processed 2500 reviews\n",
      "Processed 3000 reviews\n",
      "Processed 3500 reviews\n",
      "Processed 4000 reviews\n",
      "Processed 4500 reviews\n",
      "Processed 5000 reviews\n",
      "Processed 5500 reviews\n",
      "Processed 6000 reviews\n",
      "Processed 6500 reviews\n",
      "Processed 7000 reviews\n",
      "Processed 7500 reviews\n",
      "Processed 8000 reviews\n",
      "Processed 8500 reviews\n",
      "Processed 9000 reviews\n",
      "Processed 9500 reviews\n",
      "Processed 10000 reviews\n",
      "DONE\n",
      "****************************************\n"
     ]
    }
   ],
   "source": [
    "#* Do the cleaning\n",
    "# CAUTION: takes around 20 minutes \n",
    "reviews_clean = clean_reviews(df.review)"
   ]
  },
  {
   "cell_type": "code",
   "execution_count": 43,
   "id": "225c8de2",
   "metadata": {},
   "outputs": [],
   "source": [
    "with open('clean_reviews.pkl', 'wb') as f:\n",
    "    pickle.dump(reviews_clean,f)"
   ]
  },
  {
   "cell_type": "code",
   "execution_count": 26,
   "id": "48399023",
   "metadata": {},
   "outputs": [],
   "source": [
    "## load cleaned data\n",
    "with open('clean_reviews.pkl', 'rb') as f:\n",
    "    reviews_clean=pickle.load(f)\n"
   ]
  },
  {
   "cell_type": "markdown",
   "id": "cda5d146",
   "metadata": {},
   "source": [
    "**Preprocessing steps for textual data**"
   ]
  },
  {
   "cell_type": "markdown",
   "id": "a8e2dcba",
   "metadata": {},
   "source": [
    "a) eliminating HTML characters:"
   ]
  },
  {
   "cell_type": "code",
   "execution_count": 27,
   "id": "2e46df98",
   "metadata": {},
   "outputs": [
    {
     "name": "stdout",
     "output_type": "stream",
     "text": [
      "Original HTML text:  <p>This is a paragraph.</p>\n",
      "AFter applying BS:  This is a paragraph.\n"
     ]
    }
   ],
   "source": [
    "html_text='<p>This is a paragraph.</p>'\n",
    "print('Original HTML text: ',html_text)\n",
    "print('AFter applying BS: ',BeautifulSoup(html_text).get_text())"
   ]
  },
  {
   "cell_type": "code",
   "execution_count": 28,
   "id": "172d653e",
   "metadata": {},
   "outputs": [
    {
     "data": {
      "text/plain": [
       "' Is this a top level heading? '"
      ]
     },
     "execution_count": 28,
     "metadata": {},
     "output_type": "execute_result"
    }
   ],
   "source": [
    "html_text='<span style=\"font-size: 32px; margin: 21px 0; display: block;\"> Is this a top level heading? </span>'\n",
    "BeautifulSoup(html_text).get_text()"
   ]
  },
  {
   "cell_type": "markdown",
   "id": "422a0d2f",
   "metadata": {},
   "source": [
    "b) eliminating special characters:\n",
    "- check out the rules for matching substrings: https://docs.python.org/3/library/re.html"
   ]
  },
  {
   "cell_type": "code",
   "execution_count": 29,
   "id": "3e15ef5e",
   "metadata": {},
   "outputs": [
    {
     "name": "stdout",
     "output_type": "stream",
     "text": [
      "I decided to go to the event on          \n",
      "                                25.01.23!\n",
      "I decided to go to the event on  5.0 .  !\n",
      "I decided to go to the event on 25.01.23 \n"
     ]
    }
   ],
   "source": [
    "special_characters_text='I decided to go to the event on 25.01.23!'\n",
    "print(re.sub(\"[^a-zA-Z]\",\" \", special_characters_text))\n",
    "#^: all characters not in the set of a,A-z,Z will be matched!\n",
    "print(re.sub(\"[a-zA-Z]\",\" \", special_characters_text))\n",
    "print(re.sub(\"[1-3]\",\" \", special_characters_text))\n",
    "print(re.sub(\"!\",\" \", special_characters_text))"
   ]
  },
  {
   "cell_type": "markdown",
   "id": "6da265d8",
   "metadata": {},
   "source": [
    "c) lemmatizing words to their dictionary form: f.e., using WordNetLemmatizer\n",
    "- uses wordnet database: https://wordnet.princeton.edu/\n",
    "- over the years the database continuously extended\n",
    "- words grouped together based on their semantic similarity, meaning if they are synonyms.\n",
    "- the groups: called synsets\n",
    "- check out the search functionality: http://wordnetweb.princeton.edu/perl/webwn?o2=&o0=1&o8=1&o1=1&o7=&o5=&o9=&o6=&o3=&o4=&s=banking&h=0000000000&j=0#c \n",
    "- part-of-speech tag improves the lemmatization. "
   ]
  },
  {
   "cell_type": "code",
   "execution_count": 30,
   "id": "98629ece",
   "metadata": {},
   "outputs": [
    {
     "name": "stdout",
     "output_type": "stream",
     "text": [
      "auctioned\n",
      "auction\n"
     ]
    }
   ],
   "source": [
    "lemmatizer = WordNetLemmatizer()\n",
    "print(lemmatizer.lemmatize('auctioned'))\n",
    "print(lemmatizer.lemmatize('auctioned','v'))\n",
    "#it is a powerful tool for text normalization, since it allows normalization to occur in a more syntactical manner \n",
    "#(verbs continue being verbs, nouns continue being nouns and so on, if recognized as such)."
   ]
  },
  {
   "cell_type": "markdown",
   "id": "209ff922",
   "metadata": {},
   "source": [
    "**Train-Test Split and building Tf-Idf Matrix**"
   ]
  },
  {
   "cell_type": "code",
   "execution_count": 31,
   "id": "07f06c84",
   "metadata": {},
   "outputs": [],
   "source": [
    "## split reviews in training and test set\n",
    "Xclean_train, Xclean_test, y_train, y_test = train_test_split(reviews_clean, df['sentiment'], test_size = 0.2, random_state = 5)"
   ]
  },
  {
   "cell_type": "code",
   "execution_count": 32,
   "id": "34343a18",
   "metadata": {},
   "outputs": [],
   "source": [
    "## apply tfidf feature extraction\n",
    "vectorizer_clean = TfidfVectorizer(\n",
    "    analyzer = 'word',\n",
    "    tokenizer = dummy_fun,\n",
    "    preprocessor = dummy_fun,\n",
    "    token_pattern = None)\n",
    "\n",
    "## apply tfidf to training set and create vocabulary\n",
    "reviews_clean_tr = vectorizer_clean.fit_transform(Xclean_train)\n",
    "\n",
    "## Apply the document frequency table one the test set, to generate feature vectors.\n",
    "reviews_clean_ts = vectorizer_clean.transform(Xclean_test)"
   ]
  },
  {
   "cell_type": "code",
   "execution_count": 33,
   "id": "2325b6e1",
   "metadata": {},
   "outputs": [
    {
     "name": "stdout",
     "output_type": "stream",
     "text": [
      "The vocabulary contains 38070 tokens.\n",
      "Now let us look at some examples of these tokens.\n",
      "['aa' 'aaa' 'aaaaahhhh' 'aaaarrgh' 'aaah' 'aaall' 'aaargh' 'aaaugh' 'aag'\n",
      " 'aah' 'aaip' 'aaliyah' 'aames' 'aamir' 'aamto' 'aankhen' 'aap' 'aardman'\n",
      " 'aaron' 'aarp' 'aashok' 'aatish' 'aavjo' 'aawip' 'ab' 'abandon'\n",
      " 'abandonment' 'abash' 'abba' 'abbey' 'abbie' 'abbot' 'abbott'\n",
      " 'abbreviate' 'abc' 'abdalla' 'abdic' 'abdomen' 'abduct' 'abductee'\n",
      " 'abduction' 'abductor' 'abducts' 'abdul' 'abe' 'abedded' 'abel'\n",
      " 'abemethie' 'abernathie' 'abernethie']\n"
     ]
    }
   ],
   "source": [
    "## analyze vocabulary\n",
    "vocab_clean = vectorizer_clean.get_feature_names_out()\n",
    "print('The vocabulary contains ' + str(len(vocab_clean)) + ' tokens.')\n",
    "print('Now let us look at some examples of these tokens.')\n",
    "# print(vocab_clean[10000:10050])\n",
    "print(vocab_clean[0:50])"
   ]
  },
  {
   "cell_type": "markdown",
   "id": "14501ca8",
   "metadata": {},
   "source": [
    "**Training the model with cleaned data**"
   ]
  },
  {
   "cell_type": "code",
   "execution_count": 34,
   "id": "c3669a07",
   "metadata": {},
   "outputs": [
    {
     "name": "stdout",
     "output_type": "stream",
     "text": [
      "0.94575\n",
      "0.863568215892054\n"
     ]
    }
   ],
   "source": [
    "## apply and evaluate classifier on clean text data\n",
    "classifier_clean = LogisticRegression()\n",
    "classifier_clean.fit(reviews_clean_tr, y_train)\n",
    "pred_test = classifier_clean.predict(reviews_clean_ts)\n",
    "pred_train = classifier_clean.predict(reviews_clean_tr)\n",
    "print(metrics.accuracy_score(y_train, pred_train))\n",
    "print(metrics.accuracy_score(y_test, pred_test))"
   ]
  },
  {
   "cell_type": "code",
   "execution_count": null,
   "id": "db2af448",
   "metadata": {},
   "outputs": [],
   "source": []
  }
 ],
 "metadata": {
  "interpreter": {
   "hash": "071737a5efb5187f1b8a7f5eacd9bb694a30cbbaa4393dd0a3bebb490d9d36dd"
  },
  "kernelspec": {
   "display_name": "Python 3 (ipykernel)",
   "language": "python",
   "name": "python3"
  },
  "language_info": {
   "codemirror_mode": {
    "name": "ipython",
    "version": 3
   },
   "file_extension": ".py",
   "mimetype": "text/x-python",
   "name": "python",
   "nbconvert_exporter": "python",
   "pygments_lexer": "ipython3",
   "version": "3.9.13"
  }
 },
 "nbformat": 4,
 "nbformat_minor": 5
}
